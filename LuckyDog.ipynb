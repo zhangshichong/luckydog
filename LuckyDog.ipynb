{
  "nbformat": 4,
  "nbformat_minor": 0,
  "metadata": {
    "colab": {
      "name": "LuckyDog.ipynb",
      "version": "0.3.2",
      "provenance": [],
      "include_colab_link": true
    },
    "kernelspec": {
      "name": "python3",
      "display_name": "Python 3"
    }
  },
  "cells": [
    {
      "cell_type": "markdown",
      "metadata": {
        "id": "view-in-github",
        "colab_type": "text"
      },
      "source": [
        "<a href=\"https://colab.research.google.com/github/zhangshichong/luckydog/blob/master/LuckyDog.ipynb\" target=\"_parent\"><img src=\"https://colab.research.google.com/assets/colab-badge.svg\" alt=\"Open In Colab\"/></a>"
      ]
    },
    {
      "cell_type": "code",
      "metadata": {
        "id": "woCupxfdfkhh",
        "colab_type": "code",
        "colab": {
          "base_uri": "https://localhost:8080/",
          "height": 104
        },
        "outputId": "5d69aa7e-2da6-4f5c-da9b-88a79c0d463a"
      },
      "source": [
        "import random\n",
        "def generate_luck():\n",
        "  for i in range(5):\n",
        "    n1 = sorted(random.sample(range(1, 36), 5))\n",
        "    n2 = sorted(random.sample(range(1, 13), 2))\n",
        "    nn = list(n1) + list(n2)\n",
        "    print(nn)\n",
        "generate_luck()"
      ],
      "execution_count": 14,
      "outputs": [
        {
          "output_type": "stream",
          "text": [
            "[18, 19, 20, 21, 32, 6, 10]\n",
            "[11, 21, 22, 30, 34, 7, 9]\n",
            "[4, 5, 10, 22, 28, 7, 9]\n",
            "[4, 6, 26, 29, 35, 5, 11]\n",
            "[1, 12, 13, 27, 28, 2, 12]\n"
          ],
          "name": "stdout"
        }
      ]
    },
    {
      "cell_type": "code",
      "metadata": {
        "id": "0jvR4S2fZuuT",
        "colab_type": "code",
        "colab": {}
      },
      "source": [
        ""
      ],
      "execution_count": 0,
      "outputs": []
    }
  ]
}