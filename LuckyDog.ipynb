{
  "nbformat": 4,
  "nbformat_minor": 0,
  "metadata": {
    "colab": {
      "name": "LuckyDog.ipynb",
      "version": "0.3.2",
      "provenance": [],
      "include_colab_link": true
    },
    "kernelspec": {
      "name": "python3",
      "display_name": "Python 3"
    }
  },
  "cells": [
    {
      "cell_type": "markdown",
      "metadata": {
        "id": "view-in-github",
        "colab_type": "text"
      },
      "source": [
        "<a href=\"https://colab.research.google.com/github/zhangshichong/luckydog/blob/master/LuckyDog.ipynb\" target=\"_parent\"><img src=\"https://colab.research.google.com/assets/colab-badge.svg\" alt=\"Open In Colab\"/></a>"
      ]
    },
    {
      "cell_type": "code",
      "metadata": {
        "id": "cycHykH5dg0d",
        "colab_type": "code",
        "colab": {
          "base_uri": "https://localhost:8080/",
          "height": 35
        },
        "outputId": "2af7915d-8842-4675-932d-65efc187c6c8"
      },
      "source": [
        "import numpy as np\n",
        "nums = []\n",
        "for i in range(5):\n",
        "  num1 = np.random.randint(1, 36, 5)\n",
        "  num2 = np.random.randint(1, 13, 2)\n",
        "  num = list(num1)+list(num2)\n",
        "  nums.append(num)\n",
        "print(nums)"
      ],
      "execution_count": 5,
      "outputs": [
        {
          "output_type": "stream",
          "text": [
            "[[30, 18, 26, 14, 17, 3, 8], [12, 22, 14, 5, 3, 4, 10], [14, 14, 26, 29, 1, 9, 8], [23, 30, 10, 2, 6, 3, 3], [32, 16, 22, 20, 13, 12, 6]]\n"
          ],
          "name": "stdout"
        }
      ]
    },
    {
      "cell_type": "code",
      "metadata": {
        "id": "LG12p5AHeo18",
        "colab_type": "code",
        "colab": {
          "base_uri": "https://localhost:8080/",
          "height": 107
        },
        "outputId": "fb39c993-9599-436d-d3b0-3dc1329fc1a0"
      },
      "source": [
        "nums"
      ],
      "execution_count": 6,
      "outputs": [
        {
          "output_type": "execute_result",
          "data": {
            "text/plain": [
              "[[30, 18, 26, 14, 17, 3, 8],\n",
              " [12, 22, 14, 5, 3, 4, 10],\n",
              " [14, 14, 26, 29, 1, 9, 8],\n",
              " [23, 30, 10, 2, 6, 3, 3],\n",
              " [32, 16, 22, 20, 13, 12, 6]]"
            ]
          },
          "metadata": {
            "tags": []
          },
          "execution_count": 6
        }
      ]
    },
    {
      "cell_type": "code",
      "metadata": {
        "id": "woCupxfdfkhh",
        "colab_type": "code",
        "colab": {}
      },
      "source": [
        ""
      ],
      "execution_count": 0,
      "outputs": []
    }
  ]
}